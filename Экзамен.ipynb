{
 "cells": [
  {
   "cell_type": "code",
   "execution_count": 2,
   "metadata": {},
   "outputs": [
    {
     "name": "stdout",
     "output_type": "stream",
     "text": [
      "Оля\n",
      "Ким\n",
      "Hello, Оля !\n",
      "Hello, Ким !\n"
     ]
    }
   ],
   "source": [
    "#\tСчитайте имена 2 людей и поздоровайтесь с ними.\n",
    "name1 = str(input())\n",
    "name2 = str(input())\n",
    "print(\"Hello,\", name1, \"!\")\n",
    "print(\"Hello,\", name2, \"!\")"
   ]
  },
  {
   "cell_type": "code",
   "execution_count": 4,
   "metadata": {},
   "outputs": [
    {
     "name": "stdout",
     "output_type": "stream",
     "text": [
      "5\n",
      "3\n",
      "2\n",
      "125\n"
     ]
    }
   ],
   "source": [
    "#2\tСчитайте 2 целых числа (каждое с новой строки) и найдите (каждый результат на новой строке): \n",
    "#остаток от деления первого на второе, первое в степени первого.\n",
    "a = int(input())\n",
    "b = int(input())\n",
    "print(a % b)\n",
    "print(a**b)"
   ]
  },
  {
   "cell_type": "code",
   "execution_count": 6,
   "metadata": {},
   "outputs": [
    {
     "name": "stdout",
     "output_type": "stream",
     "text": [
      "3\n",
      "4\n",
      "5\n",
      "Площадь треугольника равна =  6.0\n"
     ]
    }
   ],
   "source": [
    "#\tДаны длины 3 сторон треугольника (каждая с новой строки). Найдите радиус вписанной в треугольник окружности.\n",
    "a = int(input())\n",
    "b = int(input())\n",
    "c = int(input())\n",
    "p = (a + b + c) / 2 \n",
    "S = (p * (p - a) * (p - b) * (p - c))**0.5\n",
    "print(\"Площадь треугольника равна = \", S)"
   ]
  },
  {
   "cell_type": "code",
   "execution_count": 8,
   "metadata": {},
   "outputs": [
    {
     "name": "stdout",
     "output_type": "stream",
     "text": [
      "3 5 2 6 2 8 6 8\n",
      "[3, 2, 2]\n"
     ]
    }
   ],
   "source": [
    "#4 Дан список, требуется вывести список, элементы которого содержатся в исходном и меньше 5.\n",
    "s = list(map(int, input().split()))\n",
    "s1 = []\n",
    "for i in range(len(s)):\n",
    "    if s[i] < 5:\n",
    "        s1.append(s[i])\n",
    "print(s1)"
   ]
  },
  {
   "cell_type": "code",
   "execution_count": 12,
   "metadata": {},
   "outputs": [
    {
     "name": "stdout",
     "output_type": "stream",
     "text": [
      "345\n",
      "Сумма = 12\n"
     ]
    }
   ],
   "source": [
    "#5)\tНа вход дано число, требуется найти сумму его цифр.\n",
    "ch = int(input())\n",
    "sum = 0\n",
    "while ch > 0:\n",
    "    dig = ch % 10\n",
    "    sum += dig\n",
    "    ch = ch // 10\n",
    "print(\"Сумма =\", sum)"
   ]
  },
  {
   "cell_type": "code",
   "execution_count": 16,
   "metadata": {},
   "outputs": [
    {
     "name": "stdout",
     "output_type": "stream",
     "text": [
      "1 3 5 2 6 1 2 4\n",
      "1 5 2 4 6 2\n",
      "['1', '5', '2', '6', '1', '2', '4']\n"
     ]
    }
   ],
   "source": [
    "#6)\tДано 2 списка, требуется вывести список, состоящий из элементов, общих для этих списков.\n",
    "s1 = list(input().split())\n",
    "s2 = list(input().split())\n",
    "c = []\n",
    "for i in s1:\n",
    "    for j in s2:\n",
    "        if i == j:\n",
    "            c.append(i)\n",
    "            break\n",
    "print(c)"
   ]
  },
  {
   "cell_type": "code",
   "execution_count": 20,
   "metadata": {},
   "outputs": [
    {
     "name": "stdout",
     "output_type": "stream",
     "text": [
      "200\n",
      "20\n",
      "2\n",
      "280.0\n"
     ]
    }
   ],
   "source": [
    "#7)\tНа вход подаётся сумма вклада, процент и кол-во расчётных периодов. \n",
    "#Требуется определить сумму вклада после начислениях всех процентов.\n",
    "su = int(input())\n",
    "per = int(input())\n",
    "k = int(input())\n",
    "new = su\n",
    "for i in range(k):\n",
    "    new += su * per/100\n",
    "print(new)"
   ]
  },
  {
   "cell_type": "code",
   "execution_count": 23,
   "metadata": {},
   "outputs": [
    {
     "name": "stdout",
     "output_type": "stream",
     "text": [
      "23\n",
      "YES\n"
     ]
    }
   ],
   "source": [
    "#8)\tНа вход даётся число, требуется определить, является ли оно простым.\n",
    "n = int(input())\n",
    "d = 2\n",
    "k = 0\n",
    "while d**2 <= n:\n",
    "    if n % d == 0:\n",
    "        k = k + 1\n",
    "    else:\n",
    "        k = k\n",
    "    d = d + 1\n",
    "if k > 0:\n",
    "    print('NO')\n",
    "else:\n",
    "    print('YES')"
   ]
  },
  {
   "cell_type": "code",
   "execution_count": null,
   "metadata": {},
   "outputs": [],
   "source": [
    "#9)\tНапишите функцию, которая возвращает True, если год является високосным и False в противном случае – year(a: int)\n",
    "def year(a):\n",
    "    if a % 4 != 0 or (a % 100 == 0 and a % 400 != 0):\n",
    "        return False\n",
    "    else:\n",
    "        return True\n",
    "\n",
    "a = int(input())\n",
    "print(year(a))"
   ]
  },
  {
   "cell_type": "code",
   "execution_count": null,
   "metadata": {},
   "outputs": [],
   "source": [
    "#На вход подаётся 1 строка, слова в которой разделены символом \"&\".\n",
    "#Необходимо вывести все слова из строки (без дубликатов) с пробелом в качестве разделителя.\n",
    "s = input().split(\"&\")\n",
    "s = set(s)\n",
    "print(*s)"
   ]
  },
  {
   "cell_type": "code",
   "execution_count": null,
   "metadata": {},
   "outputs": [],
   "source": [
    "#11)\tСчитайте строку, содержащую произвольное количество целых чисел и найдите их сумму.\n",
    "str = list(map(int, input().split()))\n",
    "print(sum(str))"
   ]
  },
  {
   "cell_type": "code",
   "execution_count": null,
   "metadata": {},
   "outputs": [],
   "source": [
    "#12)\tС помощью matplotlib нарисуйте график синуса.\n",
    "import numpy as np\n",
    "import matplotlib.pyplot as plt\n",
    "\n",
    "x = np.arange(-10, 10, 0.01)\n",
    "plt.plot(x, np.sin(x))\n",
    "plt.show()"
   ]
  },
  {
   "cell_type": "code",
   "execution_count": null,
   "metadata": {},
   "outputs": [],
   "source": [
    "#14)\tНа вход подаётся строка, некоторые слова в которой \"испорчены\". \n",
    "#Признак \"испорченного\" слова - 1я буква в нём заменена на *. \n",
    "#Выведете на печать только \"не испорченные\" слова, каждое с новой строки.\n",
    "s = str(input())\n",
    "l = list(s.split())\n",
    "s1 = ''\n",
    "for i in l:\n",
    "    if i[0] != '*':\n",
    "        s1 += i\n",
    "print(s1)"
   ]
  },
  {
   "cell_type": "code",
   "execution_count": null,
   "metadata": {},
   "outputs": [],
   "source": [
    "#16)\tС помощью рандом создайте список из 228 случайных чисел от 1 до 99 и отсортируйте его.\n",
    "import numpy as np\n",
    "from random import randint\n",
    "\n",
    "s = list(np.random.randint(1, 100, 228))\n",
    "s.sort()\n",
    "print(s)"
   ]
  },
  {
   "cell_type": "code",
   "execution_count": null,
   "metadata": {},
   "outputs": [],
   "source": [
    "#17)\tНапишите функции P(n), A(k, n)  и C(n, k), которые высчитывают количество перестановок , \n",
    "#размещений и сочетаний соответственно.\n",
    "def fac(n):\n",
    "    if n == 0:\n",
    "        return 1\n",
    "    return fac(n-1) * n\n",
    "\n",
    "def P(n):\n",
    "    per = fac(n)\n",
    "    return per\n",
    "\n",
    "def A(k, n):\n",
    "    raz = fac(n) / (fac(n - k))\n",
    "    return raz\n",
    "\n",
    "def C(n, k):\n",
    "    soc = fac(k) / (fac(k - n) * fac(n))\n",
    "    return soc\n",
    "\n",
    "n = int(input())\n",
    "k = int(input())\n",
    "print(P(n))\n",
    "print(A(n, k))\n",
    "print(C(n, k))"
   ]
  },
  {
   "cell_type": "code",
   "execution_count": null,
   "metadata": {},
   "outputs": [],
   "source": [
    "#18\n",
    "n = int(input())\n",
    "print(n**3)"
   ]
  },
  {
   "cell_type": "code",
   "execution_count": null,
   "metadata": {},
   "outputs": [],
   "source": [
    "from turtle import *\n",
    "forward(200)\n",
    "left(120)\n",
    "forward(200)\n",
    "left(120)\n",
    "forward(200)\n",
    "setup(60, 40)\n",
    "circle(40)\n",
    "done()"
   ]
  }
 ],
 "metadata": {
  "kernelspec": {
   "display_name": "Python 3",
   "language": "python",
   "name": "python3"
  },
  "language_info": {
   "codemirror_mode": {
    "name": "ipython",
    "version": 3
   },
   "file_extension": ".py",
   "mimetype": "text/x-python",
   "name": "python",
   "nbconvert_exporter": "python",
   "pygments_lexer": "ipython3",
   "version": "3.8.5"
  }
 },
 "nbformat": 4,
 "nbformat_minor": 4
}
